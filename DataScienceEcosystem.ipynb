{
 "cells": [
  {
   "cell_type": "markdown",
   "id": "93bb5968-d8ef-4b1d-b7ca-fbe0ce41f73a",
   "metadata": {},
   "source": [
    "#Data Science Tools and Ecosystem\n"
   ]
  },
  {
   "cell_type": "markdown",
   "id": "97e2c0e6-cceb-4c5d-b48c-246d437a02db",
   "metadata": {},
   "source": [
    "In this notebook, Data Science Tools and Ecosystem are summarized."
   ]
  },
  {
   "cell_type": "markdown",
   "id": "f6e8d013-3a32-4082-b414-b2477bfef5d8",
   "metadata": {},
   "source": [
    "Some of the popular languages that Data Scientists use are:\n",
    "1. Python\n",
    "2. R\n",
    "3. Julia\n"
   ]
  },
  {
   "cell_type": "markdown",
   "id": "7349ff84-8c9a-46ff-8a8e-103e6ba1b99e",
   "metadata": {},
   "source": [
    "Some of the commonly used libraries used by Data Scientists include:\n",
    "1. NumPy\n",
    "2. Pandas\n",
    "3. Matplotlib\n"
   ]
  },
  {
   "cell_type": "markdown",
   "id": "ce8b4b4e-78d3-4cbd-86af-eceb24ba6b83",
   "metadata": {},
   "source": [
    "| Data Science Tools |\n",
    "|--------------------|\n",
    "| Tool 1             |\n",
    "| Tool 2             |\n",
    "| Tool 3             |\n"
   ]
  },
  {
   "cell_type": "markdown",
   "id": "631b7917-5a90-4651-bd32-e7b172b590d0",
   "metadata": {},
   "source": [
    "### Below are a few examples of evaluating arithmetic expressions in Python."
   ]
  },
  {
   "cell_type": "markdown",
   "id": "7928f12f-47b1-4be1-93ed-d181fa46058d",
   "metadata": {},
   "source": [
    "# This is a simple arithmetic expression to multiply then add integers.\n",
    "result = (3 * 4) + 5\n",
    "result\n"
   ]
  },
  {
   "cell_type": "markdown",
   "id": "4c90e477-6f25-4b00-80c2-b7b229af3e7a",
   "metadata": {},
   "source": [
    "# This will convert 200 minutes to hours by dividing by 60.\n",
    "hours = 200 / 60\n",
    "hours\n"
   ]
  },
  {
   "cell_type": "markdown",
   "id": "c9c45a53-b1bb-4623-b0c7-37e0e861c5e7",
   "metadata": {},
   "source": [
    "**Objectives:**\n",
    "- List popular languages for Data Science.\n",
    "- Introduce common libraries in Data Science.\n",
    "- Explore tools used in Data Science.\n"
   ]
  },
  {
   "cell_type": "markdown",
   "id": "e619b0d8-ee34-4a5a-8549-6c282d9b4da5",
   "metadata": {},
   "source": [
    "## Author\n",
    "Jessica Vireus\n"
   ]
  }
 ],
 "metadata": {
  "kernelspec": {
   "display_name": "Python",
   "language": "python",
   "name": "conda-env-python-py"
  },
  "language_info": {
   "codemirror_mode": {
    "name": "ipython",
    "version": 3
   },
   "file_extension": ".py",
   "mimetype": "text/x-python",
   "name": "python",
   "nbconvert_exporter": "python",
   "pygments_lexer": "ipython3",
   "version": "3.7.12"
  }
 },
 "nbformat": 4,
 "nbformat_minor": 5
}
